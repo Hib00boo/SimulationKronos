{
 "cells": [
  {
   "cell_type": "code",
   "execution_count": 1,
   "metadata": {},
   "outputs": [],
   "source": [
    "# Imports\n",
    "from rocketpy import Environment, HybridMotor, Rocket, Flight\n",
    "import datetime"
   ]
  },
  {
   "cell_type": "code",
   "execution_count": 1,
   "metadata": {},
   "outputs": [],
   "source": [
    "# TODO : Automate data with csv on drive\n",
    "# TODO : Get missing data values"
   ]
  },
  {
   "cell_type": "code",
   "execution_count": null,
   "metadata": {},
   "outputs": [],
   "source": [
    "# Chargement données pour le moteur hybride\n",
    "SOURCE    = \"HYB30kpar.eng\"\n",
    "NAME      = \"Kraken2.0\"\n",
    "BURN_TIME = 0 # ?\n",
    "COORDS_ORIENTATION =\"nozzle_to_combustion_chamber\"\n",
    "\n",
    "# Masse solide\n",
    "DRY_MASS    = 16940/1000\n",
    "DRY_INERTIA = 0 # Inertie de la masse solide (liste en kg*m^2)\n",
    "CM_DRY      = 0 # Centre de masse de la masse solide (m)\n",
    "\n",
    "NOZZLE_RADIUS = 0.0760476\n",
    "THROAT_RADIUS = 0 # ? Rayon du throat du nozzle. Pas nécessaire dans certains simulations\n",
    "\n",
    "# Grain data\n",
    "GRAIN_N         = 1           # Nombre de grains\n",
    "GRAIN_DENSITY   = 0.503381099 # Densité du grain (kg/m^3)\n",
    "GRAIN_ORAD      = 0.063881    # rayon extérieur du grain (m)\n",
    "GRAIN_INIT_IRAD = 0.030988    # rayon initial intérieur (m)\n",
    "GRAIN_INIT_H    = 0.22225     # Hauteur initiale (m)\n",
    "GRAIN_SEP       = 0           # ? Distance entre 2 grains\n",
    "GRAIN_CM        = 0           # ? Centre de masse (m)"
   ]
  },
  {
   "cell_type": "code",
   "execution_count": null,
   "metadata": {},
   "outputs": [],
   "source": [
    "# Chargement données pour l'environnement du vol\n",
    "DATE      = datetime.datetime(2023, 11, 21) # Date du launch (Y, M, D)\n",
    "ELEVATION = 4595    # Élévation du site de launch\n",
    "GEO_DATUM = 'NAD83' # Référence spatiale pour le Canada (correction de données)\n",
    "TIMEZONE  = 'GMT-5'\n",
    "MAX_H     = 30000   # Hauteur maximal attendu en m. Utilisé pour  ne pas avoir un surplus de données\n",
    "LAT       = 0       # Latitude du spaceport\n",
    "LON       = 0       # Longitude du spaceport"
   ]
  },
  {
   "cell_type": "code",
   "execution_count": null,
   "metadata": {},
   "outputs": [],
   "source": [
    "# Chargement données de la fusée\n",
    "# Construction fusée\n",
    "ROCKET_RAD     = 0.18           # le rayon maximal de la fusée (excluant les ailettes) en mètres\n",
    "ROCKET_MASS    = 0              # Masse de la fusée sans le moteur (kg)\n",
    "ROCKET_INERTIA = 0              # liste des inerties. Axes perpendiculaires : I11, I22. Axe central : I33\n",
    "ROCKET_CM      = 0              # Centre de masse de la fusée sans le moteur\n",
    "ROCKET_COORDS  = \"nose_to_tail\" # Référence pour tous les données de type mesures (longeur, cm, etc.)\n",
    "\n",
    "# Nose cone\n",
    "NC_L     = 0.79          # Longueur du nose cone\n",
    "NC_KIND  = \"von karman\"  # Forme du nose cone\n",
    "NC_POS   = 0             # Position du nose cone (0 car nose_to_tail)\n",
    "NC_BLUFF = 0             # Ratio entre le rayon du tip de l'ogive et le rayon à la base de l'ogive. Optionnel\n",
    "\n",
    "# Ailettes\n",
    "FIN_N     = 3        # nombre d'ailettes\n",
    "FIN_SPAN  = 0.17     # Hauteur des ailettes en mètres\n",
    "FIN_RC    = 0.437134 # Root chord des ailettes en mètres\n",
    "FIN_TC    = 0.127    # Tip chord des ailettes en mètres\n",
    "FIN_POS   = 0        # Position du top des ailettes à partir du nose cone en mètres\n",
    "FIN_SWEEP = 0.249174 # Sweep length en mètres\n",
    "\n",
    "# Boattail\n",
    "TAIL_TOP    = 0.174244 # Rayon du top du tail en mètres\n",
    "TAIL_BOTTOM = 0.092456 # Rayon du bottom du tail en mètres\n",
    "TAIL_L      = 0.058674 # Longueur du tail en mètres\n",
    "TAIL_POS    = 0        # Position du tail selon le nose cone en mètres\n",
    "\n",
    "# Parachutes\n",
    "MAIN_NAME  = \"Main Parachute\" # Nom du parachute principal\n",
    "MAIN_CD    = 0 # F = ((1/2)*rho*V^2)*cd_s === Coefficient drag * aire référence. Utilisé pour calculer la force du drag\n",
    "MAIN_EJECT = 0 # Hauteur d'éjection du parachute en mètres\n",
    "MAIN_LAG   = 0 # Temps entre trigger et éjection en secondes (optionel)\n",
    "\n",
    "DRAG_NAME  = \"Drag Parachute\"\n",
    "DRAG_CD    = 0\n",
    "DRAG_EJECT = 0\n",
    "DRAG_LAG   = 0\n",
    "\n",
    "# Rails\n",
    "BUTTON_TOP    = 0 # Position du bouton le plus éloigné du nozzle (selon nose cone) (m)\n",
    "BUTTON_BOTTOM = 0 # Position du bouton le plus proche du nozzle (selon nose cone) (m)\n",
    "BUTTON_ANG    = 0 # Position angulaire des boutons en degrés (selon axes symmétriques de la fusée relative aux axes principales)"
   ]
  },
  {
   "cell_type": "code",
   "execution_count": null,
   "metadata": {},
   "outputs": [],
   "source": [
    "# Chargement données pour la simulation du vol\n",
    "RAIL_L = 0 # Longueur de la surface entre la fusée et le rail\n",
    "RAIL_INC = 0 # Inclinaison du rail relative au sol en degrés\n",
    "RAIL_HEAD = 0 # Angle relative au nord en degrés"
   ]
  }
 ],
 "metadata": {
  "kernelspec": {
   "display_name": "Python 3",
   "language": "python",
   "name": "python3"
  },
  "language_info": {
   "codemirror_mode": {
    "name": "ipython",
    "version": 3
   },
   "file_extension": ".py",
   "mimetype": "text/x-python",
   "name": "python",
   "nbconvert_exporter": "python",
   "pygments_lexer": "ipython3",
   "version": "3.12.0"
  }
 },
 "nbformat": 4,
 "nbformat_minor": 2
}
