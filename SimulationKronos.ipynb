{
 "cells": [
  {
   "cell_type": "code",
   "execution_count": 1,
   "metadata": {},
   "outputs": [],
   "source": [
    "# Imports\n",
    "from rocketpy import Environment, HybridMotor, Rocket, Flight, UllageBasedTank, CylindricalTank, Fluid, Function\n",
    "import datetime\n",
    "import pandas as pd\n",
    "import numpy as np"
   ]
  },
  {
   "cell_type": "code",
   "execution_count": 3,
   "metadata": {},
   "outputs": [],
   "source": [
    "# TODO : Automate data with csv on drive\n",
    "# TODO : Get missing data values\n",
    "# help(Rocket)"
   ]
  },
  {
   "cell_type": "code",
   "execution_count": 2,
   "metadata": {},
   "outputs": [],
   "source": [
    "# Chargement des fichiers csv en arrays\n",
    "# Coefficient drag de la fusée lorsque le moteur est éteint ou non\n",
    "powerDragOn  = pd.read_csv('Data/powerDrag.CSV', usecols=[\"CD Power-On\"]).to_numpy()\n",
    "powerDragOff = pd.read_csv('Data/powerDrag.CSV', usecols=[\"CD Power-Off\"]).to_numpy()\n",
    "\n",
    "# Stability caliber margins selon RasAero II\n",
    "cal = pd.read_csv('Data/Stability.CSV', usecols=['Stability Margin (cal)']).to_numpy()\n",
    "\n",
    "# Volume occupé par gaz (ullage) selon le temps\n",
    "ullage_volume = pd.read_csv('Data/Ullage_vol.csv', usecols = ['Time      (s)', 'volume_m3']).drop(10061).to_numpy()"
   ]
  },
  {
   "cell_type": "code",
   "execution_count": 14,
   "metadata": {},
   "outputs": [],
   "source": [
    "# Chargement données pour le tank\n",
    "# TODO : Add spherical caps without errors (height and radius too small?)\n",
    "cylinder = CylindricalTank(\n",
    "    radius = 0.076327,\n",
    "    height = 1.5748,\n",
    "    # spherical_caps = True\n",
    ")\n",
    "# TODO : Vérifier densité\n",
    "# https://docs.rocketpy.org/en/latest/user/motors/tanks.html#tanks-usage\n",
    "liquid_N2O = Fluid(name=\"Liquid Nitrous Oxide\", density=855)\n",
    "vapour_N2O = Fluid(name=\"Vapour Nitrous Oxide\", density=101)\n",
    "\n",
    "FLUX_TIME = 10.059999999999864 # secondes\n",
    "\n",
    "volume_fonction = Function(\n",
    "    source = ullage_volume,\n",
    "    inputs = 'Time (sec)',\n",
    "    outputs = ['volume_m3']\n",
    ")\n"
   ]
  },
  {
   "cell_type": "code",
   "execution_count": 4,
   "metadata": {},
   "outputs": [],
   "source": [
    "# Chargement données pour le moteur hybride\n",
    "SOURCE    = \"HYB30kpar.eng\"\n",
    "NAME      = \"Kraken2.0\"\n",
    "BURN_TIME = 12.25\n",
    "MOTOR_POSITION     = 5.456682  # Mesure tip nose cone - tip injecteur\n",
    "COORDS_ORIENTATION = \"nozzle_to_combustion_chamber\"\n",
    "\n",
    "# Masse solide\n",
    "DRY_MASS      =  16940/1000                    # Masse de la structure excluant le propellant [Bilan masses]\n",
    "DRY_INERTIA   = [0.98, 0.98 , 0.06]   # Inertie de la masse solide (liste en kg*m^2) Solidworks (I_11, I_22, I_33, I_12, I_13, I_23)\n",
    "CM_DRY        =  0.391922                      # Centre de masse de la masse solide (m) (Exclut propellant alors j'ai exclu le grain ?)\n",
    "NOZZLE_RADIUS =  0.0760476\n",
    "NOZZLE_POS    =  0                             # Position du nozzle. 0 car c le ref du moteur\n",
    "THROAT_RADIUS =  0.042291                      # ? Rayon du throat du nozzle. Pas nécessaire dans certains simulations\n",
    "\n",
    "# Grain data\n",
    "GRAIN_N         = 1           # Nombre de grains\n",
    "GRAIN_DENSITY   = 0.503381099 # Densité du grain (kg/m^3)\n",
    "GRAIN_ORAD      = 0.1278      # rayon extérieur du grain (m)\n",
    "GRAIN_INIT_IRAD = 0.0620      # rayon initial intérieur (m)\n",
    "GRAIN_INIT_H    = 0.4445     # Hauteur initiale (m)\n",
    "GRAIN_SEP       = 0           # Distance entre 2 grains (0 car 1 seul grain)\n",
    "GRAIN_CM        = 0.45212     # Centre de masse (m) nozzle to grain_cm"
   ]
  },
  {
   "cell_type": "code",
   "execution_count": 23,
   "metadata": {},
   "outputs": [],
   "source": [
    "# Chargement données pour l'environnement du vol\n",
    "DATE      = datetime.datetime(2024, 1, 26) # Date du launch (Y, M, D)\n",
    "ELEVATION = 1400    # Élévation du site de launch\n",
    "GEO_DATUM = 'NAD83' # Référence spatiale pour le Canada (correction de données)\n",
    "TIMEZONE  = 'GMT-5'\n",
    "MAX_H     = 30000   # Hauteur maximal attendu en m. Utilisé pour  ne pas avoir un surplus de données\n",
    "LAT       = 0       # Latitude du spaceport\n",
    "LON       = 0       # Longitude du spaceport"
   ]
  },
  {
   "cell_type": "code",
   "execution_count": 6,
   "metadata": {},
   "outputs": [],
   "source": [
    "# Chargement données de la fusée\n",
    "# Construction fusée\n",
    "ROCKET_RAD     =  0.18                                   # le rayon maximal de la fusée (excluant les ailettes) en mètres\n",
    "ROCKET_MASS    =  47.80                                  # Masse de la fusée sans le moteur (kg) [Solidworks]\n",
    "ROCKET_INERTIA = [94.91, 94.90, 0.27, 0, -0.09, 0]       # liste des inerties. [I_11, I_22, I_33, I_12, I_13, I_23]\n",
    "ROCKET_CM      =  2.530856                               # Centre de masse de la fusée sans le moteur (tip nose - CM rocket)\n",
    "ROCKET_COORDS  =  \"nose_to_tail\"                         # Référence pour tous les données de type mesures (longeur, cm, etc.)\n",
    "\n",
    "# Nose cone\n",
    "NC_L     = 0.79          # Longueur du nose cone\n",
    "NC_KIND  = \"von karman\"  # Forme du nose cone\n",
    "NC_POS   = 0             # Position du nose cone. 0 car c le point de référence\n",
    "NC_BLUFF = 0             # Ratio entre le rayon du tip de l'ogive et le rayon à la base de l'ogive. Optionnel\n",
    "\n",
    "# Ailettes\n",
    "FIN_N     =  3         # nombre d'ailettes\n",
    "FIN_SPAN  =  0.17      # Hauteur des ailettes en mètres\n",
    "FIN_RC    =  0.437134  # Root chord des ailettes en mètres\n",
    "FIN_TC    =  0.127     # Tip chord des ailettes en mètres\n",
    "FIN_POS   =  4.966208 # Position du top des ailettes à partir du nose cone en mètres\n",
    "FIN_SWEEP =  0.249174  # Sweep length en mètres\n",
    "\n",
    "# Boattail\n",
    "TAIL_TOP    = 0.174244  # Rayon du top du tail en mètres\n",
    "TAIL_BOTTOM = 0.092456  # Rayon du bottom du tail en mètres\n",
    "TAIL_L      = 0.058674  # Longueur du tail en mètres\n",
    "TAIL_POS    = 5.38861   # Position du tail selon le nose cone\n",
    "\n",
    "# Parachutes\n",
    "MAIN_NAME  = \"Main Parachute\" # Nom du parachute principal\n",
    "MAIN_CD    = 0 # F = ((1/2)*rho*V^2)*cd_s === Coefficient drag * aire référence. Utilisé pour calculer la force du drag\n",
    "MAIN_EJECT = 0 # Hauteur d'éjection du parachute en mètres\n",
    "MAIN_LAG   = 0 # Temps entre trigger et éjection en secondes (optionel)\n",
    "\n",
    "DRAG_NAME  = \"Drag Parachute\"\n",
    "DRAG_CD    = 0\n",
    "DRAG_EJECT = 0\n",
    "DRAG_LAG   = 0\n",
    "\n",
    "# Rails\n",
    "BUTTON_TOP    = 0 # Position du bouton le plus éloigné du nozzle (selon nose cone) (m) pas necessaire\n",
    "BUTTON_BOTTOM = 0 # Position du bouton le plus proche du nozzle (selon nose cone) (m)pas necessaire\n",
    "BUTTON_ANG    = 0 # Position angulaire des boutons en degrés (selon axes symmétriques de la fusée relative aux axes principales)"
   ]
  },
  {
   "cell_type": "code",
   "execution_count": 7,
   "metadata": {},
   "outputs": [],
   "source": [
    "# Chargement données pour la simulation du vol\n",
    "RAIL_L    = 9.144 # Longueur de la surface entre la fusée et le rail 30 pieds\n",
    "RAIL_INC  = 90-6 # Inclinaison du rail relative au sol en degrés\n",
    "RAIL_HEAD = 6 # Angle relative au nord en degrés"
   ]
  },
  {
   "cell_type": "code",
   "execution_count": 8,
   "metadata": {},
   "outputs": [],
   "source": [
    "# Création tank\n",
    "Kronos_Tank = UllageBasedTank(\n",
    "    name       = \"Tank\",\n",
    "    geometry   = cylinder,\n",
    "    flux_time  = FLUX_TIME,\n",
    "    liquid     = liquid_N2O,\n",
    "    gas        = vapour_N2O,\n",
    "    ullage     = volume_fonction,\n",
    "    # discretize = 10060\n",
    ")"
   ]
  },
  {
   "cell_type": "code",
   "execution_count": 9,
   "metadata": {},
   "outputs": [],
   "source": [
    "# Création du moteur\n",
    "# TODO : make tank then add to motor\n",
    "Kraken = HybridMotor(\n",
    "    burn_time     = BURN_TIME,\n",
    "    thrust_source = SOURCE,\n",
    "    dry_mass      = DRY_MASS,\n",
    "    dry_inertia   = DRY_INERTIA,\n",
    "    center_of_dry_mass_position = CM_DRY,\n",
    "\n",
    "    nozzle_radius   = NOZZLE_RADIUS,\n",
    "    nozzle_position = NOZZLE_POS,\n",
    "    throat_radius   = THROAT_RADIUS,\n",
    "\n",
    "    grain_number         = GRAIN_N,\n",
    "    grain_density        = GRAIN_DENSITY,\n",
    "    grain_outer_radius   = GRAIN_ORAD,\n",
    "    grain_initial_height = GRAIN_INIT_H,\n",
    "    grain_separation     = GRAIN_SEP,\n",
    "    grain_initial_inner_radius     = GRAIN_INIT_IRAD,\n",
    "    grains_center_of_mass_position = GRAIN_CM,\n",
    "\n",
    "    coordinate_system_orientation  = COORDS_ORIENTATION\n",
    ")\n",
    "# Kraken.all_info()"
   ]
  },
  {
   "cell_type": "code",
   "execution_count": 19,
   "metadata": {},
   "outputs": [
    {
     "ename": "KeyboardInterrupt",
     "evalue": "",
     "output_type": "error",
     "traceback": [
      "\u001b[1;31m---------------------------------------------------------------------------\u001b[0m",
      "\u001b[1;31mKeyboardInterrupt\u001b[0m                         Traceback (most recent call last)",
      "Cell \u001b[1;32mIn[19], line 1\u001b[0m\n\u001b[1;32m----> 1\u001b[0m \u001b[43mKraken\u001b[49m\u001b[38;5;241;43m.\u001b[39;49m\u001b[43madd_tank\u001b[49m\u001b[43m(\u001b[49m\u001b[43mKronos_Tank\u001b[49m\u001b[43m,\u001b[49m\u001b[43m \u001b[49m\u001b[38;5;241;43m2.160778\u001b[39;49m\u001b[43m)\u001b[49m \u001b[38;5;66;03m# Position nozzle-CM_tank = 2.160778 m\u001b[39;00m\n",
      "File \u001b[1;32mc:\\msys64\\mingw64\\bin\\Lib\\site-packages\\rocketpy\\motors\\hybrid_motor.py:520\u001b[0m, in \u001b[0;36mHybridMotor.add_tank\u001b[1;34m(self, tank, position)\u001b[0m\n\u001b[0;32m    500\u001b[0m \u001b[38;5;250m\u001b[39m\u001b[38;5;124;03m\"\"\"Adds a tank to the motor.\u001b[39;00m\n\u001b[0;32m    501\u001b[0m \n\u001b[0;32m    502\u001b[0m \u001b[38;5;124;03mParameters\u001b[39;00m\n\u001b[1;32m   (...)\u001b[0m\n\u001b[0;32m    517\u001b[0m \u001b[38;5;124;03mNone\u001b[39;00m\n\u001b[0;32m    518\u001b[0m \u001b[38;5;124;03m\"\"\"\u001b[39;00m\n\u001b[0;32m    519\u001b[0m \u001b[38;5;28mself\u001b[39m\u001b[38;5;241m.\u001b[39mliquid\u001b[38;5;241m.\u001b[39madd_tank(tank, position)\n\u001b[1;32m--> 520\u001b[0m \u001b[38;5;28;43mself\u001b[39;49m\u001b[38;5;241;43m.\u001b[39;49m\u001b[43msolid\u001b[49m\u001b[38;5;241;43m.\u001b[39;49m\u001b[43mmass_flow_rate\u001b[49m \u001b[38;5;241m=\u001b[39m (\n\u001b[0;32m    521\u001b[0m     \u001b[38;5;28mself\u001b[39m\u001b[38;5;241m.\u001b[39mtotal_mass_flow_rate \u001b[38;5;241m-\u001b[39m \u001b[38;5;28mself\u001b[39m\u001b[38;5;241m.\u001b[39mliquid\u001b[38;5;241m.\u001b[39mmass_flow_rate\n\u001b[0;32m    522\u001b[0m )\n\u001b[0;32m    523\u001b[0m reset_funcified_methods(\u001b[38;5;28mself\u001b[39m)\n",
      "File \u001b[1;32mc:\\msys64\\mingw64\\bin\\Lib\\site-packages\\rocketpy\\motors\\solid_motor.py:436\u001b[0m, in \u001b[0;36mSolidMotor.mass_flow_rate\u001b[1;34m(self, value)\u001b[0m\n\u001b[0;32m    424\u001b[0m \u001b[38;5;250m\u001b[39m\u001b[38;5;124;03m\"\"\"Sets the mass flow rate of the motor.\u001b[39;00m\n\u001b[0;32m    425\u001b[0m \n\u001b[0;32m    426\u001b[0m \u001b[38;5;124;03mParameters\u001b[39;00m\n\u001b[1;32m   (...)\u001b[0m\n\u001b[0;32m    433\u001b[0m \u001b[38;5;124;03mNone\u001b[39;00m\n\u001b[0;32m    434\u001b[0m \u001b[38;5;124;03m\"\"\"\u001b[39;00m\n\u001b[0;32m    435\u001b[0m \u001b[38;5;28mself\u001b[39m\u001b[38;5;241m.\u001b[39m_mass_flow_rate \u001b[38;5;241m=\u001b[39m value\u001b[38;5;241m.\u001b[39mreset(\u001b[38;5;124m\"\u001b[39m\u001b[38;5;124mTime (s)\u001b[39m\u001b[38;5;124m\"\u001b[39m, \u001b[38;5;124m\"\u001b[39m\u001b[38;5;124mgrain mass flow rate (kg/s)\u001b[39m\u001b[38;5;124m\"\u001b[39m)\n\u001b[1;32m--> 436\u001b[0m \u001b[38;5;28;43mself\u001b[39;49m\u001b[38;5;241;43m.\u001b[39;49m\u001b[43mevaluate_geometry\u001b[49m\u001b[43m(\u001b[49m\u001b[43m)\u001b[49m\n",
      "File \u001b[1;32mc:\\msys64\\mingw64\\bin\\Lib\\site-packages\\rocketpy\\motors\\solid_motor.py:493\u001b[0m, in \u001b[0;36mSolidMotor.evaluate_geometry\u001b[1;34m(self)\u001b[0m\n\u001b[0;32m    490\u001b[0m terminate_burn\u001b[38;5;241m.\u001b[39mdirection \u001b[38;5;241m=\u001b[39m \u001b[38;5;241m-\u001b[39m\u001b[38;5;241m1\u001b[39m\n\u001b[0;32m    492\u001b[0m \u001b[38;5;66;03m# Solve the system of differential equations\u001b[39;00m\n\u001b[1;32m--> 493\u001b[0m sol \u001b[38;5;241m=\u001b[39m \u001b[43mintegrate\u001b[49m\u001b[38;5;241;43m.\u001b[39;49m\u001b[43msolve_ivp\u001b[49m\u001b[43m(\u001b[49m\n\u001b[0;32m    494\u001b[0m \u001b[43m    \u001b[49m\u001b[43mgeometry_dot\u001b[49m\u001b[43m,\u001b[49m\n\u001b[0;32m    495\u001b[0m \u001b[43m    \u001b[49m\u001b[43mt_span\u001b[49m\u001b[43m,\u001b[49m\n\u001b[0;32m    496\u001b[0m \u001b[43m    \u001b[49m\u001b[43my0\u001b[49m\u001b[43m,\u001b[49m\n\u001b[0;32m    497\u001b[0m \u001b[43m    \u001b[49m\u001b[43mevents\u001b[49m\u001b[38;5;241;43m=\u001b[39;49m\u001b[43mterminate_burn\u001b[49m\u001b[43m,\u001b[49m\n\u001b[0;32m    498\u001b[0m \u001b[43m    \u001b[49m\u001b[43matol\u001b[49m\u001b[38;5;241;43m=\u001b[39;49m\u001b[38;5;241;43m1e-12\u001b[39;49m\u001b[43m,\u001b[49m\n\u001b[0;32m    499\u001b[0m \u001b[43m    \u001b[49m\u001b[43mrtol\u001b[49m\u001b[38;5;241;43m=\u001b[39;49m\u001b[38;5;241;43m1e-11\u001b[39;49m\u001b[43m,\u001b[49m\n\u001b[0;32m    500\u001b[0m \u001b[43m    \u001b[49m\u001b[43mmethod\u001b[49m\u001b[38;5;241;43m=\u001b[39;49m\u001b[38;5;124;43m\"\u001b[39;49m\u001b[38;5;124;43mLSODA\u001b[39;49m\u001b[38;5;124;43m\"\u001b[39;49m\u001b[43m,\u001b[49m\n\u001b[0;32m    501\u001b[0m \u001b[43m\u001b[49m\u001b[43m)\u001b[49m\n\u001b[0;32m    503\u001b[0m \u001b[38;5;28mself\u001b[39m\u001b[38;5;241m.\u001b[39mgrain_burn_out \u001b[38;5;241m=\u001b[39m sol\u001b[38;5;241m.\u001b[39mt[\u001b[38;5;241m-\u001b[39m\u001b[38;5;241m1\u001b[39m]\n\u001b[0;32m    505\u001b[0m \u001b[38;5;66;03m# Write down functions for innerRadius and height\u001b[39;00m\n",
      "File \u001b[1;32mc:\\msys64\\mingw64\\bin\\Lib\\site-packages\\scipy\\integrate\\_ivp\\ivp.py:602\u001b[0m, in \u001b[0;36msolve_ivp\u001b[1;34m(fun, t_span, y0, method, t_eval, dense_output, events, vectorized, args, **options)\u001b[0m\n\u001b[0;32m    600\u001b[0m status \u001b[38;5;241m=\u001b[39m \u001b[38;5;28;01mNone\u001b[39;00m\n\u001b[0;32m    601\u001b[0m \u001b[38;5;28;01mwhile\u001b[39;00m status \u001b[38;5;129;01mis\u001b[39;00m \u001b[38;5;28;01mNone\u001b[39;00m:\n\u001b[1;32m--> 602\u001b[0m     message \u001b[38;5;241m=\u001b[39m \u001b[43msolver\u001b[49m\u001b[38;5;241;43m.\u001b[39;49m\u001b[43mstep\u001b[49m\u001b[43m(\u001b[49m\u001b[43m)\u001b[49m\n\u001b[0;32m    604\u001b[0m     \u001b[38;5;28;01mif\u001b[39;00m solver\u001b[38;5;241m.\u001b[39mstatus \u001b[38;5;241m==\u001b[39m \u001b[38;5;124m'\u001b[39m\u001b[38;5;124mfinished\u001b[39m\u001b[38;5;124m'\u001b[39m:\n\u001b[0;32m    605\u001b[0m         status \u001b[38;5;241m=\u001b[39m \u001b[38;5;241m0\u001b[39m\n",
      "File \u001b[1;32mc:\\msys64\\mingw64\\bin\\Lib\\site-packages\\scipy\\integrate\\_ivp\\base.py:197\u001b[0m, in \u001b[0;36mOdeSolver.step\u001b[1;34m(self)\u001b[0m\n\u001b[0;32m    195\u001b[0m \u001b[38;5;28;01melse\u001b[39;00m:\n\u001b[0;32m    196\u001b[0m     t \u001b[38;5;241m=\u001b[39m \u001b[38;5;28mself\u001b[39m\u001b[38;5;241m.\u001b[39mt\n\u001b[1;32m--> 197\u001b[0m     success, message \u001b[38;5;241m=\u001b[39m \u001b[38;5;28;43mself\u001b[39;49m\u001b[38;5;241;43m.\u001b[39;49m\u001b[43m_step_impl\u001b[49m\u001b[43m(\u001b[49m\u001b[43m)\u001b[49m\n\u001b[0;32m    199\u001b[0m     \u001b[38;5;28;01mif\u001b[39;00m \u001b[38;5;129;01mnot\u001b[39;00m success:\n\u001b[0;32m    200\u001b[0m         \u001b[38;5;28mself\u001b[39m\u001b[38;5;241m.\u001b[39mstatus \u001b[38;5;241m=\u001b[39m \u001b[38;5;124m'\u001b[39m\u001b[38;5;124mfailed\u001b[39m\u001b[38;5;124m'\u001b[39m\n",
      "File \u001b[1;32mc:\\msys64\\mingw64\\bin\\Lib\\site-packages\\scipy\\integrate\\_ivp\\lsoda.py:161\u001b[0m, in \u001b[0;36mLSODA._step_impl\u001b[1;34m(self)\u001b[0m\n\u001b[0;32m    159\u001b[0m itask \u001b[38;5;241m=\u001b[39m integrator\u001b[38;5;241m.\u001b[39mcall_args[\u001b[38;5;241m2\u001b[39m]\n\u001b[0;32m    160\u001b[0m integrator\u001b[38;5;241m.\u001b[39mcall_args[\u001b[38;5;241m2\u001b[39m] \u001b[38;5;241m=\u001b[39m \u001b[38;5;241m5\u001b[39m\n\u001b[1;32m--> 161\u001b[0m solver\u001b[38;5;241m.\u001b[39m_y, solver\u001b[38;5;241m.\u001b[39mt \u001b[38;5;241m=\u001b[39m \u001b[43mintegrator\u001b[49m\u001b[38;5;241;43m.\u001b[39;49m\u001b[43mrun\u001b[49m\u001b[43m(\u001b[49m\n\u001b[0;32m    162\u001b[0m \u001b[43m    \u001b[49m\u001b[43msolver\u001b[49m\u001b[38;5;241;43m.\u001b[39;49m\u001b[43mf\u001b[49m\u001b[43m,\u001b[49m\u001b[43m \u001b[49m\u001b[43msolver\u001b[49m\u001b[38;5;241;43m.\u001b[39;49m\u001b[43mjac\u001b[49m\u001b[43m \u001b[49m\u001b[38;5;129;43;01mor\u001b[39;49;00m\u001b[43m \u001b[49m\u001b[43m(\u001b[49m\u001b[38;5;28;43;01mlambda\u001b[39;49;00m\u001b[43m:\u001b[49m\u001b[43m \u001b[49m\u001b[38;5;28;43;01mNone\u001b[39;49;00m\u001b[43m)\u001b[49m\u001b[43m,\u001b[49m\u001b[43m \u001b[49m\u001b[43msolver\u001b[49m\u001b[38;5;241;43m.\u001b[39;49m\u001b[43m_y\u001b[49m\u001b[43m,\u001b[49m\u001b[43m \u001b[49m\u001b[43msolver\u001b[49m\u001b[38;5;241;43m.\u001b[39;49m\u001b[43mt\u001b[49m\u001b[43m,\u001b[49m\n\u001b[0;32m    163\u001b[0m \u001b[43m    \u001b[49m\u001b[38;5;28;43mself\u001b[39;49m\u001b[38;5;241;43m.\u001b[39;49m\u001b[43mt_bound\u001b[49m\u001b[43m,\u001b[49m\u001b[43m \u001b[49m\u001b[43msolver\u001b[49m\u001b[38;5;241;43m.\u001b[39;49m\u001b[43mf_params\u001b[49m\u001b[43m,\u001b[49m\u001b[43m \u001b[49m\u001b[43msolver\u001b[49m\u001b[38;5;241;43m.\u001b[39;49m\u001b[43mjac_params\u001b[49m\u001b[43m)\u001b[49m\n\u001b[0;32m    164\u001b[0m integrator\u001b[38;5;241m.\u001b[39mcall_args[\u001b[38;5;241m2\u001b[39m] \u001b[38;5;241m=\u001b[39m itask\n\u001b[0;32m    166\u001b[0m \u001b[38;5;28;01mif\u001b[39;00m solver\u001b[38;5;241m.\u001b[39msuccessful():\n",
      "File \u001b[1;32mc:\\msys64\\mingw64\\bin\\Lib\\site-packages\\scipy\\integrate\\_ode.py:1344\u001b[0m, in \u001b[0;36mlsoda.run\u001b[1;34m(self, f, jac, y0, t0, t1, f_params, jac_params)\u001b[0m\n\u001b[0;32m   1341\u001b[0m     \u001b[38;5;28mself\u001b[39m\u001b[38;5;241m.\u001b[39macquire_new_handle()\n\u001b[0;32m   1342\u001b[0m args \u001b[38;5;241m=\u001b[39m [f, y0, t0, t1] \u001b[38;5;241m+\u001b[39m \u001b[38;5;28mself\u001b[39m\u001b[38;5;241m.\u001b[39mcall_args[:\u001b[38;5;241m-\u001b[39m\u001b[38;5;241m1\u001b[39m] \u001b[38;5;241m+\u001b[39m \\\n\u001b[0;32m   1343\u001b[0m        [jac, \u001b[38;5;28mself\u001b[39m\u001b[38;5;241m.\u001b[39mcall_args[\u001b[38;5;241m-\u001b[39m\u001b[38;5;241m1\u001b[39m], f_params, \u001b[38;5;241m0\u001b[39m, jac_params]\n\u001b[1;32m-> 1344\u001b[0m y1, t, istate \u001b[38;5;241m=\u001b[39m \u001b[38;5;28;43mself\u001b[39;49m\u001b[38;5;241;43m.\u001b[39;49m\u001b[43mrunner\u001b[49m\u001b[43m(\u001b[49m\u001b[38;5;241;43m*\u001b[39;49m\u001b[43margs\u001b[49m\u001b[43m)\u001b[49m\n\u001b[0;32m   1345\u001b[0m \u001b[38;5;28mself\u001b[39m\u001b[38;5;241m.\u001b[39mistate \u001b[38;5;241m=\u001b[39m istate\n\u001b[0;32m   1346\u001b[0m \u001b[38;5;28;01mif\u001b[39;00m istate \u001b[38;5;241m<\u001b[39m \u001b[38;5;241m0\u001b[39m:\n",
      "File \u001b[1;32mc:\\msys64\\mingw64\\bin\\Lib\\site-packages\\scipy\\integrate\\_ivp\\base.py:152\u001b[0m, in \u001b[0;36mOdeSolver.__init__.<locals>.fun\u001b[1;34m(t, y)\u001b[0m\n\u001b[0;32m    149\u001b[0m             f[:, i] \u001b[38;5;241m=\u001b[39m \u001b[38;5;28mself\u001b[39m\u001b[38;5;241m.\u001b[39m_fun(t, yi)\n\u001b[0;32m    150\u001b[0m         \u001b[38;5;28;01mreturn\u001b[39;00m f\n\u001b[1;32m--> 152\u001b[0m \u001b[38;5;28;01mdef\u001b[39;00m \u001b[38;5;21mfun\u001b[39m(t, y):\n\u001b[0;32m    153\u001b[0m     \u001b[38;5;28mself\u001b[39m\u001b[38;5;241m.\u001b[39mnfev \u001b[38;5;241m+\u001b[39m\u001b[38;5;241m=\u001b[39m \u001b[38;5;241m1\u001b[39m\n\u001b[0;32m    154\u001b[0m     \u001b[38;5;28;01mreturn\u001b[39;00m \u001b[38;5;28mself\u001b[39m\u001b[38;5;241m.\u001b[39mfun_single(t, y)\n",
      "File \u001b[1;32mc:\\msys64\\mingw64\\bin\\Lib\\site-packages\\debugpy\\_vendored\\pydevd\\_pydevd_bundle\\pydevd_trace_dispatch_regular.py:326\u001b[0m, in \u001b[0;36mThreadTracer.__call__\u001b[1;34m(self, frame, event, arg)\u001b[0m\n\u001b[0;32m    323\u001b[0m         \u001b[38;5;28mself\u001b[39m\u001b[38;5;241m.\u001b[39m_args \u001b[38;5;241m=\u001b[39m args\n\u001b[0;32m    324\u001b[0m \u001b[38;5;66;03m# ENDIF\u001b[39;00m\n\u001b[1;32m--> 326\u001b[0m     \u001b[38;5;28;01mdef\u001b[39;00m \u001b[38;5;21m__call__\u001b[39m(\u001b[38;5;28mself\u001b[39m, frame, event, arg):\n\u001b[0;32m    327\u001b[0m \u001b[38;5;250m        \u001b[39m\u001b[38;5;124;03m''' This is the callback used when we enter some context in the debugger.\u001b[39;00m\n\u001b[0;32m    328\u001b[0m \n\u001b[0;32m    329\u001b[0m \u001b[38;5;124;03m        We also decorate the thread we are in with info about the debugging.\u001b[39;00m\n\u001b[1;32m   (...)\u001b[0m\n\u001b[0;32m    337\u001b[0m \u001b[38;5;124;03m            This is the global debugger (this method should actually be added as a method to it).\u001b[39;00m\n\u001b[0;32m    338\u001b[0m \u001b[38;5;124;03m        '''\u001b[39;00m\n\u001b[0;32m    339\u001b[0m         \u001b[38;5;66;03m# IFDEF CYTHON\u001b[39;00m\n\u001b[0;32m    340\u001b[0m         \u001b[38;5;66;03m# cdef str filename;\u001b[39;00m\n\u001b[0;32m    341\u001b[0m         \u001b[38;5;66;03m# cdef str base;\u001b[39;00m\n\u001b[1;32m   (...)\u001b[0m\n\u001b[0;32m    350\u001b[0m         \u001b[38;5;66;03m# DEBUG = 'code_to_debug' in frame.f_code.co_filename\u001b[39;00m\n\u001b[0;32m    351\u001b[0m         \u001b[38;5;66;03m# if DEBUG: print('ENTER: trace_dispatch: %s %s %s %s' % (frame.f_code.co_filename, frame.f_lineno, event, frame.f_code.co_name))\u001b[39;00m\n",
      "\u001b[1;31mKeyboardInterrupt\u001b[0m: "
     ]
    }
   ],
   "source": [
    "Kraken.add_tank(Kronos_Tank, 2.160778) # Position nozzle-CM_tank = 2.160778 m\n"
   ]
  },
  {
   "cell_type": "code",
   "execution_count": 18,
   "metadata": {},
   "outputs": [
    {
     "name": "stdout",
     "output_type": "stream",
     "text": [
      "Error in input and output dimensions!\n",
      "Error in input and output dimensions!\n"
     ]
    },
    {
     "ename": "ValueError",
     "evalue": "array must not contain infs or NaNs",
     "output_type": "error",
     "traceback": [
      "\u001b[1;31m---------------------------------------------------------------------------\u001b[0m",
      "\u001b[1;31mValueError\u001b[0m                                Traceback (most recent call last)",
      "Cell \u001b[1;32mIn[18], line 61\u001b[0m\n\u001b[0;32m     49\u001b[0m boattail \u001b[38;5;241m=\u001b[39m kronos\u001b[38;5;241m.\u001b[39madd_tail(\n\u001b[0;32m     50\u001b[0m     top_radius    \u001b[38;5;241m=\u001b[39m TAIL_TOP,\n\u001b[0;32m     51\u001b[0m     bottom_radius \u001b[38;5;241m=\u001b[39m TAIL_BOTTOM,\n\u001b[0;32m     52\u001b[0m     length        \u001b[38;5;241m=\u001b[39m TAIL_L,\n\u001b[0;32m     53\u001b[0m     position      \u001b[38;5;241m=\u001b[39m TAIL_POS\n\u001b[0;32m     54\u001b[0m )\n\u001b[0;32m     56\u001b[0m \u001b[38;5;66;03m# Ajout rails pas necessaire\u001b[39;00m\n\u001b[0;32m     57\u001b[0m \u001b[38;5;66;03m# buttons = kronos.set_rail_buttons(\u001b[39;00m\n\u001b[0;32m     58\u001b[0m \u001b[38;5;66;03m#     angular_position      = BUTTON_ANG\u001b[39;00m\n\u001b[0;32m     59\u001b[0m \u001b[38;5;66;03m# )\u001b[39;00m\n\u001b[0;32m     60\u001b[0m \u001b[38;5;66;03m# Ajout moteur\u001b[39;00m\n\u001b[1;32m---> 61\u001b[0m \u001b[43mkronos\u001b[49m\u001b[38;5;241;43m.\u001b[39;49m\u001b[43madd_motor\u001b[49m\u001b[43m(\u001b[49m\u001b[43mKraken\u001b[49m\u001b[43m,\u001b[49m\u001b[43m \u001b[49m\u001b[38;5;241;43m2.252726\u001b[39;49m\u001b[43m)\u001b[49m\n\u001b[0;32m     62\u001b[0m \u001b[38;5;66;03m# kronos.all_info()\u001b[39;00m\n",
      "File \u001b[1;32mc:\\msys64\\mingw64\\bin\\Lib\\site-packages\\rocketpy\\rocket\\rocket.py:667\u001b[0m, in \u001b[0;36mRocket.add_motor\u001b[1;34m(self, motor, position)\u001b[0m\n\u001b[0;32m    665\u001b[0m \u001b[38;5;28mself\u001b[39m\u001b[38;5;241m.\u001b[39mevaluate_reduced_mass()\n\u001b[0;32m    666\u001b[0m \u001b[38;5;28mself\u001b[39m\u001b[38;5;241m.\u001b[39mevaluate_thrust_to_weight()\n\u001b[1;32m--> 667\u001b[0m \u001b[38;5;28;43mself\u001b[39;49m\u001b[38;5;241;43m.\u001b[39;49m\u001b[43mevaluate_static_margin\u001b[49m\u001b[43m(\u001b[49m\u001b[43m)\u001b[49m\n\u001b[0;32m    668\u001b[0m \u001b[38;5;28;01mreturn\u001b[39;00m \u001b[38;5;28;01mNone\u001b[39;00m\n",
      "File \u001b[1;32mc:\\msys64\\mingw64\\bin\\Lib\\site-packages\\rocketpy\\rocket\\rocket.py:464\u001b[0m, in \u001b[0;36mRocket.evaluate_static_margin\u001b[1;34m(self)\u001b[0m\n\u001b[0;32m    462\u001b[0m \u001b[38;5;28mself\u001b[39m\u001b[38;5;241m.\u001b[39mstatic_margin\u001b[38;5;241m.\u001b[39mset_outputs(\u001b[38;5;124m\"\u001b[39m\u001b[38;5;124mStatic Margin (c)\u001b[39m\u001b[38;5;124m\"\u001b[39m)\n\u001b[0;32m    463\u001b[0m \u001b[38;5;28mself\u001b[39m\u001b[38;5;241m.\u001b[39mstatic_margin\u001b[38;5;241m.\u001b[39mset_title(\u001b[38;5;124m\"\u001b[39m\u001b[38;5;124mStatic Margin\u001b[39m\u001b[38;5;124m\"\u001b[39m)\n\u001b[1;32m--> 464\u001b[0m \u001b[38;5;28;43mself\u001b[39;49m\u001b[38;5;241;43m.\u001b[39;49m\u001b[43mstatic_margin\u001b[49m\u001b[38;5;241;43m.\u001b[39;49m\u001b[43mset_discrete\u001b[49m\u001b[43m(\u001b[49m\n\u001b[0;32m    465\u001b[0m \u001b[43m    \u001b[49m\u001b[43mlower\u001b[49m\u001b[38;5;241;43m=\u001b[39;49m\u001b[38;5;241;43m0\u001b[39;49m\u001b[43m,\u001b[49m\u001b[43m \u001b[49m\u001b[43mupper\u001b[49m\u001b[38;5;241;43m=\u001b[39;49m\u001b[38;5;28;43mself\u001b[39;49m\u001b[38;5;241;43m.\u001b[39;49m\u001b[43mmotor\u001b[49m\u001b[38;5;241;43m.\u001b[39;49m\u001b[43mburn_out_time\u001b[49m\u001b[43m,\u001b[49m\u001b[43m \u001b[49m\u001b[43msamples\u001b[49m\u001b[38;5;241;43m=\u001b[39;49m\u001b[38;5;241;43m200\u001b[39;49m\n\u001b[0;32m    466\u001b[0m \u001b[43m\u001b[49m\u001b[43m)\u001b[49m\n\u001b[0;32m    467\u001b[0m \u001b[38;5;28;01mreturn\u001b[39;00m \u001b[38;5;28;01mNone\u001b[39;00m\n",
      "File \u001b[1;32mc:\\msys64\\mingw64\\bin\\Lib\\site-packages\\rocketpy\\mathutils\\function.py:512\u001b[0m, in \u001b[0;36mFunction.set_discrete\u001b[1;34m(self, lower, upper, samples, interpolation, extrapolation, one_by_one)\u001b[0m\n\u001b[0;32m    510\u001b[0m xs \u001b[38;5;241m=\u001b[39m np\u001b[38;5;241m.\u001b[39mlinspace(lower, upper, samples)\n\u001b[0;32m    511\u001b[0m ys \u001b[38;5;241m=\u001b[39m \u001b[38;5;28mself\u001b[39m\u001b[38;5;241m.\u001b[39mget_value(xs\u001b[38;5;241m.\u001b[39mtolist()) \u001b[38;5;28;01mif\u001b[39;00m one_by_one \u001b[38;5;28;01melse\u001b[39;00m \u001b[38;5;28mself\u001b[39m\u001b[38;5;241m.\u001b[39mget_value(xs)\n\u001b[1;32m--> 512\u001b[0m \u001b[38;5;28;43mself\u001b[39;49m\u001b[38;5;241;43m.\u001b[39;49m\u001b[43mset_source\u001b[49m\u001b[43m(\u001b[49m\u001b[43mnp\u001b[49m\u001b[38;5;241;43m.\u001b[39;49m\u001b[43mconcatenate\u001b[49m\u001b[43m(\u001b[49m\u001b[43m(\u001b[49m\u001b[43m[\u001b[49m\u001b[43mxs\u001b[49m\u001b[43m]\u001b[49m\u001b[43m,\u001b[49m\u001b[43m \u001b[49m\u001b[43m[\u001b[49m\u001b[43mys\u001b[49m\u001b[43m]\u001b[49m\u001b[43m)\u001b[49m\u001b[43m)\u001b[49m\u001b[38;5;241;43m.\u001b[39;49m\u001b[43mtranspose\u001b[49m\u001b[43m(\u001b[49m\u001b[43m)\u001b[49m\u001b[43m)\u001b[49m\n\u001b[0;32m    513\u001b[0m \u001b[38;5;28mself\u001b[39m\u001b[38;5;241m.\u001b[39mset_interpolation(interpolation)\n\u001b[0;32m    514\u001b[0m \u001b[38;5;28mself\u001b[39m\u001b[38;5;241m.\u001b[39mset_extrapolation(extrapolation)\n",
      "File \u001b[1;32mc:\\msys64\\mingw64\\bin\\Lib\\site-packages\\rocketpy\\mathutils\\function.py:217\u001b[0m, in \u001b[0;36mFunction.set_source\u001b[1;34m(self, source)\u001b[0m\n\u001b[0;32m    215\u001b[0m \u001b[38;5;66;03m# Set default interpolation for point source if it hasn't\u001b[39;00m\n\u001b[0;32m    216\u001b[0m \u001b[38;5;28;01mif\u001b[39;00m \u001b[38;5;28mself\u001b[39m\u001b[38;5;241m.\u001b[39m__interpolation__ \u001b[38;5;129;01mis\u001b[39;00m \u001b[38;5;28;01mNone\u001b[39;00m:\n\u001b[1;32m--> 217\u001b[0m     \u001b[38;5;28;43mself\u001b[39;49m\u001b[38;5;241;43m.\u001b[39;49m\u001b[43mset_interpolation\u001b[49m\u001b[43m(\u001b[49m\u001b[43m)\u001b[49m\n\u001b[0;32m    218\u001b[0m \u001b[38;5;28;01melse\u001b[39;00m:\n\u001b[0;32m    219\u001b[0m     \u001b[38;5;66;03m# Updates interpolation coefficients\u001b[39;00m\n\u001b[0;32m    220\u001b[0m     \u001b[38;5;28mself\u001b[39m\u001b[38;5;241m.\u001b[39mset_interpolation(\u001b[38;5;28mself\u001b[39m\u001b[38;5;241m.\u001b[39m__interpolation__)\n",
      "File \u001b[1;32mc:\\msys64\\mingw64\\bin\\Lib\\site-packages\\rocketpy\\mathutils\\function.py:281\u001b[0m, in \u001b[0;36mFunction.set_interpolation\u001b[1;34m(self, method)\u001b[0m\n\u001b[0;32m    278\u001b[0m \u001b[38;5;66;03m# Spline, akima and polynomial need data processing\u001b[39;00m\n\u001b[0;32m    279\u001b[0m \u001b[38;5;66;03m# Shepard, and linear do not\u001b[39;00m\n\u001b[0;32m    280\u001b[0m \u001b[38;5;28;01mif\u001b[39;00m method \u001b[38;5;241m==\u001b[39m \u001b[38;5;124m\"\u001b[39m\u001b[38;5;124mspline\u001b[39m\u001b[38;5;124m\"\u001b[39m:\n\u001b[1;32m--> 281\u001b[0m     \u001b[38;5;28;43mself\u001b[39;49m\u001b[38;5;241;43m.\u001b[39;49m\u001b[43m__interpolate_spline__\u001b[49m\u001b[43m(\u001b[49m\u001b[43m)\u001b[49m\n\u001b[0;32m    282\u001b[0m \u001b[38;5;28;01melif\u001b[39;00m method \u001b[38;5;241m==\u001b[39m \u001b[38;5;124m\"\u001b[39m\u001b[38;5;124mpolynomial\u001b[39m\u001b[38;5;124m\"\u001b[39m:\n\u001b[0;32m    283\u001b[0m     \u001b[38;5;28mself\u001b[39m\u001b[38;5;241m.\u001b[39m__interpolate_polynomial__()\n",
      "File \u001b[1;32mc:\\msys64\\mingw64\\bin\\Lib\\site-packages\\rocketpy\\mathutils\\function.py:1436\u001b[0m, in \u001b[0;36mFunction.__interpolate_spline__\u001b[1;34m(self)\u001b[0m\n\u001b[0;32m   1434\u001b[0m B\u001b[38;5;241m.\u001b[39mappend(\u001b[38;5;241m0\u001b[39m)\n\u001b[0;32m   1435\u001b[0m \u001b[38;5;66;03m# Solve the system for c coefficients\u001b[39;00m\n\u001b[1;32m-> 1436\u001b[0m c \u001b[38;5;241m=\u001b[39m \u001b[43mlinalg\u001b[49m\u001b[38;5;241;43m.\u001b[39;49m\u001b[43msolve_banded\u001b[49m\u001b[43m(\u001b[49m\u001b[43m(\u001b[49m\u001b[38;5;241;43m1\u001b[39;49m\u001b[43m,\u001b[49m\u001b[43m \u001b[49m\u001b[38;5;241;43m1\u001b[39;49m\u001b[43m)\u001b[49m\u001b[43m,\u001b[49m\u001b[43m \u001b[49m\u001b[43mAb\u001b[49m\u001b[43m,\u001b[49m\u001b[43m \u001b[49m\u001b[43mB\u001b[49m\u001b[43m,\u001b[49m\u001b[43m \u001b[49m\u001b[38;5;28;43;01mTrue\u001b[39;49;00m\u001b[43m,\u001b[49m\u001b[43m \u001b[49m\u001b[38;5;28;43;01mTrue\u001b[39;49;00m\u001b[43m)\u001b[49m\n\u001b[0;32m   1437\u001b[0m \u001b[38;5;66;03m# Calculate other coefficients\u001b[39;00m\n\u001b[0;32m   1438\u001b[0m b \u001b[38;5;241m=\u001b[39m [\n\u001b[0;32m   1439\u001b[0m     ((y[i \u001b[38;5;241m+\u001b[39m \u001b[38;5;241m1\u001b[39m] \u001b[38;5;241m-\u001b[39m y[i]) \u001b[38;5;241m/\u001b[39m h[i] \u001b[38;5;241m-\u001b[39m h[i] \u001b[38;5;241m*\u001b[39m (\u001b[38;5;241m2\u001b[39m \u001b[38;5;241m*\u001b[39m c[i] \u001b[38;5;241m+\u001b[39m c[i \u001b[38;5;241m+\u001b[39m \u001b[38;5;241m1\u001b[39m]) \u001b[38;5;241m/\u001b[39m \u001b[38;5;241m3\u001b[39m)\n\u001b[0;32m   1440\u001b[0m     \u001b[38;5;28;01mfor\u001b[39;00m i \u001b[38;5;129;01min\u001b[39;00m \u001b[38;5;28mrange\u001b[39m(\u001b[38;5;241m0\u001b[39m, mdim \u001b[38;5;241m-\u001b[39m \u001b[38;5;241m1\u001b[39m)\n\u001b[0;32m   1441\u001b[0m ]\n",
      "File \u001b[1;32mc:\\msys64\\mingw64\\bin\\Lib\\site-packages\\scipy\\linalg\\_basic.py:433\u001b[0m, in \u001b[0;36msolve_banded\u001b[1;34m(l_and_u, ab, b, overwrite_ab, overwrite_b, check_finite)\u001b[0m\n\u001b[0;32m    364\u001b[0m \u001b[38;5;250m\u001b[39m\u001b[38;5;124;03m\"\"\"\u001b[39;00m\n\u001b[0;32m    365\u001b[0m \u001b[38;5;124;03mSolve the equation a x = b for x, assuming a is banded matrix.\u001b[39;00m\n\u001b[0;32m    366\u001b[0m \n\u001b[1;32m   (...)\u001b[0m\n\u001b[0;32m    429\u001b[0m \n\u001b[0;32m    430\u001b[0m \u001b[38;5;124;03m\"\"\"\u001b[39;00m\n\u001b[0;32m    432\u001b[0m a1 \u001b[38;5;241m=\u001b[39m _asarray_validated(ab, check_finite\u001b[38;5;241m=\u001b[39mcheck_finite, as_inexact\u001b[38;5;241m=\u001b[39m\u001b[38;5;28;01mTrue\u001b[39;00m)\n\u001b[1;32m--> 433\u001b[0m b1 \u001b[38;5;241m=\u001b[39m \u001b[43m_asarray_validated\u001b[49m\u001b[43m(\u001b[49m\u001b[43mb\u001b[49m\u001b[43m,\u001b[49m\u001b[43m \u001b[49m\u001b[43mcheck_finite\u001b[49m\u001b[38;5;241;43m=\u001b[39;49m\u001b[43mcheck_finite\u001b[49m\u001b[43m,\u001b[49m\u001b[43m \u001b[49m\u001b[43mas_inexact\u001b[49m\u001b[38;5;241;43m=\u001b[39;49m\u001b[38;5;28;43;01mTrue\u001b[39;49;00m\u001b[43m)\u001b[49m\n\u001b[0;32m    434\u001b[0m \u001b[38;5;66;03m# Validate shapes.\u001b[39;00m\n\u001b[0;32m    435\u001b[0m \u001b[38;5;28;01mif\u001b[39;00m a1\u001b[38;5;241m.\u001b[39mshape[\u001b[38;5;241m-\u001b[39m\u001b[38;5;241m1\u001b[39m] \u001b[38;5;241m!=\u001b[39m b1\u001b[38;5;241m.\u001b[39mshape[\u001b[38;5;241m0\u001b[39m]:\n",
      "File \u001b[1;32mc:\\msys64\\mingw64\\bin\\Lib\\site-packages\\scipy\\_lib\\_util.py:240\u001b[0m, in \u001b[0;36m_asarray_validated\u001b[1;34m(a, check_finite, sparse_ok, objects_ok, mask_ok, as_inexact)\u001b[0m\n\u001b[0;32m    238\u001b[0m         \u001b[38;5;28;01mraise\u001b[39;00m \u001b[38;5;167;01mValueError\u001b[39;00m(\u001b[38;5;124m'\u001b[39m\u001b[38;5;124mmasked arrays are not supported\u001b[39m\u001b[38;5;124m'\u001b[39m)\n\u001b[0;32m    239\u001b[0m toarray \u001b[38;5;241m=\u001b[39m np\u001b[38;5;241m.\u001b[39masarray_chkfinite \u001b[38;5;28;01mif\u001b[39;00m check_finite \u001b[38;5;28;01melse\u001b[39;00m np\u001b[38;5;241m.\u001b[39masarray\n\u001b[1;32m--> 240\u001b[0m a \u001b[38;5;241m=\u001b[39m \u001b[43mtoarray\u001b[49m\u001b[43m(\u001b[49m\u001b[43ma\u001b[49m\u001b[43m)\u001b[49m\n\u001b[0;32m    241\u001b[0m \u001b[38;5;28;01mif\u001b[39;00m \u001b[38;5;129;01mnot\u001b[39;00m objects_ok:\n\u001b[0;32m    242\u001b[0m     \u001b[38;5;28;01mif\u001b[39;00m a\u001b[38;5;241m.\u001b[39mdtype \u001b[38;5;129;01mis\u001b[39;00m np\u001b[38;5;241m.\u001b[39mdtype(\u001b[38;5;124m'\u001b[39m\u001b[38;5;124mO\u001b[39m\u001b[38;5;124m'\u001b[39m):\n",
      "File \u001b[1;32mc:\\msys64\\mingw64\\bin\\Lib\\site-packages\\numpy\\lib\\function_base.py:630\u001b[0m, in \u001b[0;36masarray_chkfinite\u001b[1;34m(a, dtype, order)\u001b[0m\n\u001b[0;32m    628\u001b[0m a \u001b[38;5;241m=\u001b[39m asarray(a, dtype\u001b[38;5;241m=\u001b[39mdtype, order\u001b[38;5;241m=\u001b[39morder)\n\u001b[0;32m    629\u001b[0m \u001b[38;5;28;01mif\u001b[39;00m a\u001b[38;5;241m.\u001b[39mdtype\u001b[38;5;241m.\u001b[39mchar \u001b[38;5;129;01min\u001b[39;00m typecodes[\u001b[38;5;124m'\u001b[39m\u001b[38;5;124mAllFloat\u001b[39m\u001b[38;5;124m'\u001b[39m] \u001b[38;5;129;01mand\u001b[39;00m \u001b[38;5;129;01mnot\u001b[39;00m np\u001b[38;5;241m.\u001b[39misfinite(a)\u001b[38;5;241m.\u001b[39mall():\n\u001b[1;32m--> 630\u001b[0m     \u001b[38;5;28;01mraise\u001b[39;00m \u001b[38;5;167;01mValueError\u001b[39;00m(\n\u001b[0;32m    631\u001b[0m         \u001b[38;5;124m\"\u001b[39m\u001b[38;5;124marray must not contain infs or NaNs\u001b[39m\u001b[38;5;124m\"\u001b[39m)\n\u001b[0;32m    632\u001b[0m \u001b[38;5;28;01mreturn\u001b[39;00m a\n",
      "\u001b[1;31mValueError\u001b[0m: array must not contain infs or NaNs"
     ]
    }
   ],
   "source": [
    "# Création de la fusée\n",
    "kronos = Rocket(\n",
    "    radius  = ROCKET_RAD,\n",
    "    mass    = ROCKET_MASS,\n",
    "    inertia = ROCKET_INERTIA,\n",
    "\n",
    "    center_of_mass_without_motor  = ROCKET_CM,\n",
    "    coordinate_system_orientation = ROCKET_COORDS,\n",
    "    \n",
    "    power_off_drag = powerDragOn,\n",
    "    power_on_drag  = powerDragOff\n",
    ")\n",
    "\n",
    "# Ajout nose cone\n",
    "nose = kronos.add_nose(\n",
    "    length    = NC_L,\n",
    "    kind      = NC_KIND,\n",
    "    position  = NC_POS\n",
    "    # bluffness = NC_BLUFF\n",
    ")\n",
    "\n",
    "# Ajout parachutes\n",
    "main_parachute = kronos.add_parachute(\n",
    "    name    = MAIN_NAME,\n",
    "    cd_s    = MAIN_CD,\n",
    "    trigger = MAIN_EJECT,\n",
    "    lag     = MAIN_LAG\n",
    ")\n",
    "\n",
    "drag_parachute = kronos.add_parachute(\n",
    "    name    = DRAG_NAME,\n",
    "    cd_s    = DRAG_CD,\n",
    "    trigger = DRAG_EJECT,\n",
    "    lag     = DRAG_LAG\n",
    ")\n",
    "\n",
    "# Ajout ailettes\n",
    "fins = kronos.add_trapezoidal_fins(\n",
    "    n           = FIN_N,\n",
    "    root_chord  = FIN_RC,\n",
    "    tip_chord   = FIN_TC,\n",
    "    span        = FIN_SPAN,\n",
    "    position    = FIN_POS,\n",
    "    sweep_angle = FIN_SWEEP\n",
    ")\n",
    "\n",
    "\n",
    "# Ajout boattail\n",
    "boattail = kronos.add_tail(\n",
    "    top_radius    = TAIL_TOP,\n",
    "    bottom_radius = TAIL_BOTTOM,\n",
    "    length        = TAIL_L,\n",
    "    position      = TAIL_POS\n",
    ")\n",
    "\n",
    "# Ajout rails pas necessaire\n",
    "# buttons = kronos.set_rail_buttons(\n",
    "#     angular_position      = BUTTON_ANG\n",
    "# )\n",
    "# Ajout moteur\n",
    "kronos.add_motor(Kraken, 2.252726)\n",
    "# kronos.all_info()"
   ]
  },
  {
   "cell_type": "code",
   "execution_count": 24,
   "metadata": {},
   "outputs": [],
   "source": [
    "# Creation de l'environment use gfs\n",
    "env = Environment(\n",
    "    date      = DATE,\n",
    "    latitude  = LAT,\n",
    "    longitude = LON,\n",
    "    elevation = ELEVATION\n",
    ")\n",
    "env.set_date(DATE)\n",
    "env.set_atmospheric_model(type=\"Forecast\", file=\"GFS\")\n",
    "# env.all_info()"
   ]
  },
  {
   "cell_type": "code",
   "execution_count": 25,
   "metadata": {},
   "outputs": [
    {
     "ename": "AttributeError",
     "evalue": "'Function' object has no attribute 'get_value_opt'",
     "output_type": "error",
     "traceback": [
      "\u001b[1;31m---------------------------------------------------------------------------\u001b[0m",
      "\u001b[1;31mAttributeError\u001b[0m                            Traceback (most recent call last)",
      "Cell \u001b[1;32mIn[25], line 2\u001b[0m\n\u001b[0;32m      1\u001b[0m \u001b[38;5;66;03m# Simulation du vol\u001b[39;00m\n\u001b[1;32m----> 2\u001b[0m test_flight \u001b[38;5;241m=\u001b[39m \u001b[43mFlight\u001b[49m\u001b[43m(\u001b[49m\n\u001b[0;32m      3\u001b[0m \u001b[43m    \u001b[49m\u001b[43mrocket\u001b[49m\u001b[43m      \u001b[49m\u001b[38;5;241;43m=\u001b[39;49m\u001b[43m \u001b[49m\u001b[43mkronos\u001b[49m\u001b[43m,\u001b[49m\n\u001b[0;32m      4\u001b[0m \u001b[43m    \u001b[49m\u001b[43menvironment\u001b[49m\u001b[43m \u001b[49m\u001b[38;5;241;43m=\u001b[39;49m\u001b[43m \u001b[49m\u001b[43menv\u001b[49m\u001b[43m,\u001b[49m\n\u001b[0;32m      5\u001b[0m \u001b[43m    \u001b[49m\u001b[43mrail_length\u001b[49m\u001b[43m \u001b[49m\u001b[38;5;241;43m=\u001b[39;49m\u001b[43m \u001b[49m\u001b[43mRAIL_L\u001b[49m\u001b[43m,\u001b[49m\n\u001b[0;32m      6\u001b[0m \u001b[43m    \u001b[49m\u001b[43minclination\u001b[49m\u001b[43m \u001b[49m\u001b[38;5;241;43m=\u001b[39;49m\u001b[43m \u001b[49m\u001b[43mRAIL_INC\u001b[49m\u001b[43m,\u001b[49m\n\u001b[0;32m      7\u001b[0m \u001b[43m    \u001b[49m\u001b[43mheading\u001b[49m\u001b[43m     \u001b[49m\u001b[38;5;241;43m=\u001b[39;49m\u001b[43m \u001b[49m\u001b[43mRAIL_HEAD\u001b[49m\u001b[43m  \u001b[49m\n\u001b[0;32m      8\u001b[0m \u001b[43m)\u001b[49m\n\u001b[0;32m     10\u001b[0m \u001b[38;5;66;03m# test_flight.info()\u001b[39;00m\n",
      "File \u001b[1;32mc:\\msys64\\mingw64\\bin\\Lib\\site-packages\\rocketpy\\simulation\\flight.py:744\u001b[0m, in \u001b[0;36mFlight.__init__\u001b[1;34m(self, rocket, environment, rail_length, inclination, heading, initial_solution, terminate_on_apogee, max_time, max_time_step, min_time_step, rtol, atol, time_overshoot, verbose, name, equations_of_motion)\u001b[0m\n\u001b[0;32m    741\u001b[0m \u001b[38;5;66;03m# Step through simulation\u001b[39;00m\n\u001b[0;32m    742\u001b[0m \u001b[38;5;28;01mwhile\u001b[39;00m phase\u001b[38;5;241m.\u001b[39msolver\u001b[38;5;241m.\u001b[39mstatus \u001b[38;5;241m==\u001b[39m \u001b[38;5;124m\"\u001b[39m\u001b[38;5;124mrunning\u001b[39m\u001b[38;5;124m\"\u001b[39m:\n\u001b[0;32m    743\u001b[0m     \u001b[38;5;66;03m# Step\u001b[39;00m\n\u001b[1;32m--> 744\u001b[0m     \u001b[43mphase\u001b[49m\u001b[38;5;241;43m.\u001b[39;49m\u001b[43msolver\u001b[49m\u001b[38;5;241;43m.\u001b[39;49m\u001b[43mstep\u001b[49m\u001b[43m(\u001b[49m\u001b[43m)\u001b[49m\n\u001b[0;32m    745\u001b[0m     \u001b[38;5;66;03m# Save step result\u001b[39;00m\n\u001b[0;32m    746\u001b[0m     \u001b[38;5;28mself\u001b[39m\u001b[38;5;241m.\u001b[39msolution \u001b[38;5;241m+\u001b[39m\u001b[38;5;241m=\u001b[39m [[phase\u001b[38;5;241m.\u001b[39msolver\u001b[38;5;241m.\u001b[39mt, \u001b[38;5;241m*\u001b[39mphase\u001b[38;5;241m.\u001b[39msolver\u001b[38;5;241m.\u001b[39my]]\n",
      "File \u001b[1;32mc:\\msys64\\mingw64\\bin\\Lib\\site-packages\\scipy\\integrate\\_ivp\\base.py:197\u001b[0m, in \u001b[0;36mOdeSolver.step\u001b[1;34m(self)\u001b[0m\n\u001b[0;32m    195\u001b[0m \u001b[38;5;28;01melse\u001b[39;00m:\n\u001b[0;32m    196\u001b[0m     t \u001b[38;5;241m=\u001b[39m \u001b[38;5;28mself\u001b[39m\u001b[38;5;241m.\u001b[39mt\n\u001b[1;32m--> 197\u001b[0m     success, message \u001b[38;5;241m=\u001b[39m \u001b[38;5;28;43mself\u001b[39;49m\u001b[38;5;241;43m.\u001b[39;49m\u001b[43m_step_impl\u001b[49m\u001b[43m(\u001b[49m\u001b[43m)\u001b[49m\n\u001b[0;32m    199\u001b[0m     \u001b[38;5;28;01mif\u001b[39;00m \u001b[38;5;129;01mnot\u001b[39;00m success:\n\u001b[0;32m    200\u001b[0m         \u001b[38;5;28mself\u001b[39m\u001b[38;5;241m.\u001b[39mstatus \u001b[38;5;241m=\u001b[39m \u001b[38;5;124m'\u001b[39m\u001b[38;5;124mfailed\u001b[39m\u001b[38;5;124m'\u001b[39m\n",
      "File \u001b[1;32mc:\\msys64\\mingw64\\bin\\Lib\\site-packages\\scipy\\integrate\\_ivp\\lsoda.py:161\u001b[0m, in \u001b[0;36mLSODA._step_impl\u001b[1;34m(self)\u001b[0m\n\u001b[0;32m    159\u001b[0m itask \u001b[38;5;241m=\u001b[39m integrator\u001b[38;5;241m.\u001b[39mcall_args[\u001b[38;5;241m2\u001b[39m]\n\u001b[0;32m    160\u001b[0m integrator\u001b[38;5;241m.\u001b[39mcall_args[\u001b[38;5;241m2\u001b[39m] \u001b[38;5;241m=\u001b[39m \u001b[38;5;241m5\u001b[39m\n\u001b[1;32m--> 161\u001b[0m solver\u001b[38;5;241m.\u001b[39m_y, solver\u001b[38;5;241m.\u001b[39mt \u001b[38;5;241m=\u001b[39m \u001b[43mintegrator\u001b[49m\u001b[38;5;241;43m.\u001b[39;49m\u001b[43mrun\u001b[49m\u001b[43m(\u001b[49m\n\u001b[0;32m    162\u001b[0m \u001b[43m    \u001b[49m\u001b[43msolver\u001b[49m\u001b[38;5;241;43m.\u001b[39;49m\u001b[43mf\u001b[49m\u001b[43m,\u001b[49m\u001b[43m \u001b[49m\u001b[43msolver\u001b[49m\u001b[38;5;241;43m.\u001b[39;49m\u001b[43mjac\u001b[49m\u001b[43m \u001b[49m\u001b[38;5;129;43;01mor\u001b[39;49;00m\u001b[43m \u001b[49m\u001b[43m(\u001b[49m\u001b[38;5;28;43;01mlambda\u001b[39;49;00m\u001b[43m:\u001b[49m\u001b[43m \u001b[49m\u001b[38;5;28;43;01mNone\u001b[39;49;00m\u001b[43m)\u001b[49m\u001b[43m,\u001b[49m\u001b[43m \u001b[49m\u001b[43msolver\u001b[49m\u001b[38;5;241;43m.\u001b[39;49m\u001b[43m_y\u001b[49m\u001b[43m,\u001b[49m\u001b[43m \u001b[49m\u001b[43msolver\u001b[49m\u001b[38;5;241;43m.\u001b[39;49m\u001b[43mt\u001b[49m\u001b[43m,\u001b[49m\n\u001b[0;32m    163\u001b[0m \u001b[43m    \u001b[49m\u001b[38;5;28;43mself\u001b[39;49m\u001b[38;5;241;43m.\u001b[39;49m\u001b[43mt_bound\u001b[49m\u001b[43m,\u001b[49m\u001b[43m \u001b[49m\u001b[43msolver\u001b[49m\u001b[38;5;241;43m.\u001b[39;49m\u001b[43mf_params\u001b[49m\u001b[43m,\u001b[49m\u001b[43m \u001b[49m\u001b[43msolver\u001b[49m\u001b[38;5;241;43m.\u001b[39;49m\u001b[43mjac_params\u001b[49m\u001b[43m)\u001b[49m\n\u001b[0;32m    164\u001b[0m integrator\u001b[38;5;241m.\u001b[39mcall_args[\u001b[38;5;241m2\u001b[39m] \u001b[38;5;241m=\u001b[39m itask\n\u001b[0;32m    166\u001b[0m \u001b[38;5;28;01mif\u001b[39;00m solver\u001b[38;5;241m.\u001b[39msuccessful():\n",
      "File \u001b[1;32mc:\\msys64\\mingw64\\bin\\Lib\\site-packages\\scipy\\integrate\\_ode.py:1344\u001b[0m, in \u001b[0;36mlsoda.run\u001b[1;34m(self, f, jac, y0, t0, t1, f_params, jac_params)\u001b[0m\n\u001b[0;32m   1341\u001b[0m     \u001b[38;5;28mself\u001b[39m\u001b[38;5;241m.\u001b[39macquire_new_handle()\n\u001b[0;32m   1342\u001b[0m args \u001b[38;5;241m=\u001b[39m [f, y0, t0, t1] \u001b[38;5;241m+\u001b[39m \u001b[38;5;28mself\u001b[39m\u001b[38;5;241m.\u001b[39mcall_args[:\u001b[38;5;241m-\u001b[39m\u001b[38;5;241m1\u001b[39m] \u001b[38;5;241m+\u001b[39m \\\n\u001b[0;32m   1343\u001b[0m        [jac, \u001b[38;5;28mself\u001b[39m\u001b[38;5;241m.\u001b[39mcall_args[\u001b[38;5;241m-\u001b[39m\u001b[38;5;241m1\u001b[39m], f_params, \u001b[38;5;241m0\u001b[39m, jac_params]\n\u001b[1;32m-> 1344\u001b[0m y1, t, istate \u001b[38;5;241m=\u001b[39m \u001b[38;5;28;43mself\u001b[39;49m\u001b[38;5;241;43m.\u001b[39;49m\u001b[43mrunner\u001b[49m\u001b[43m(\u001b[49m\u001b[38;5;241;43m*\u001b[39;49m\u001b[43margs\u001b[49m\u001b[43m)\u001b[49m\n\u001b[0;32m   1345\u001b[0m \u001b[38;5;28mself\u001b[39m\u001b[38;5;241m.\u001b[39mistate \u001b[38;5;241m=\u001b[39m istate\n\u001b[0;32m   1346\u001b[0m \u001b[38;5;28;01mif\u001b[39;00m istate \u001b[38;5;241m<\u001b[39m \u001b[38;5;241m0\u001b[39m:\n",
      "File \u001b[1;32mc:\\msys64\\mingw64\\bin\\Lib\\site-packages\\scipy\\integrate\\_ivp\\base.py:154\u001b[0m, in \u001b[0;36mOdeSolver.__init__.<locals>.fun\u001b[1;34m(t, y)\u001b[0m\n\u001b[0;32m    152\u001b[0m \u001b[38;5;28;01mdef\u001b[39;00m \u001b[38;5;21mfun\u001b[39m(t, y):\n\u001b[0;32m    153\u001b[0m     \u001b[38;5;28mself\u001b[39m\u001b[38;5;241m.\u001b[39mnfev \u001b[38;5;241m+\u001b[39m\u001b[38;5;241m=\u001b[39m \u001b[38;5;241m1\u001b[39m\n\u001b[1;32m--> 154\u001b[0m     \u001b[38;5;28;01mreturn\u001b[39;00m \u001b[38;5;28;43mself\u001b[39;49m\u001b[38;5;241;43m.\u001b[39;49m\u001b[43mfun_single\u001b[49m\u001b[43m(\u001b[49m\u001b[43mt\u001b[49m\u001b[43m,\u001b[49m\u001b[43m \u001b[49m\u001b[43my\u001b[49m\u001b[43m)\u001b[49m\n",
      "File \u001b[1;32mc:\\msys64\\mingw64\\bin\\Lib\\site-packages\\scipy\\integrate\\_ivp\\base.py:23\u001b[0m, in \u001b[0;36mcheck_arguments.<locals>.fun_wrapped\u001b[1;34m(t, y)\u001b[0m\n\u001b[0;32m     22\u001b[0m \u001b[38;5;28;01mdef\u001b[39;00m \u001b[38;5;21mfun_wrapped\u001b[39m(t, y):\n\u001b[1;32m---> 23\u001b[0m     \u001b[38;5;28;01mreturn\u001b[39;00m np\u001b[38;5;241m.\u001b[39masarray(\u001b[43mfun\u001b[49m\u001b[43m(\u001b[49m\u001b[43mt\u001b[49m\u001b[43m,\u001b[49m\u001b[43m \u001b[49m\u001b[43my\u001b[49m\u001b[43m)\u001b[49m, dtype\u001b[38;5;241m=\u001b[39mdtype)\n",
      "File \u001b[1;32mc:\\msys64\\mingw64\\bin\\Lib\\site-packages\\rocketpy\\simulation\\flight.py:1268\u001b[0m, in \u001b[0;36mFlight.udot_rail1\u001b[1;34m(self, t, u, post_processing)\u001b[0m\n\u001b[0;32m   1262\u001b[0m free_stream_speed \u001b[38;5;241m=\u001b[39m (\n\u001b[0;32m   1263\u001b[0m     (\u001b[38;5;28mself\u001b[39m\u001b[38;5;241m.\u001b[39menv\u001b[38;5;241m.\u001b[39mwind_velocity_x\u001b[38;5;241m.\u001b[39mget_value_opt(z) \u001b[38;5;241m-\u001b[39m vx) \u001b[38;5;241m*\u001b[39m\u001b[38;5;241m*\u001b[39m \u001b[38;5;241m2\u001b[39m\n\u001b[0;32m   1264\u001b[0m     \u001b[38;5;241m+\u001b[39m (\u001b[38;5;28mself\u001b[39m\u001b[38;5;241m.\u001b[39menv\u001b[38;5;241m.\u001b[39mwind_velocity_y\u001b[38;5;241m.\u001b[39mget_value_opt(z) \u001b[38;5;241m-\u001b[39m vy) \u001b[38;5;241m*\u001b[39m\u001b[38;5;241m*\u001b[39m \u001b[38;5;241m2\u001b[39m\n\u001b[0;32m   1265\u001b[0m     \u001b[38;5;241m+\u001b[39m (vz) \u001b[38;5;241m*\u001b[39m\u001b[38;5;241m*\u001b[39m \u001b[38;5;241m2\u001b[39m\n\u001b[0;32m   1266\u001b[0m ) \u001b[38;5;241m*\u001b[39m\u001b[38;5;241m*\u001b[39m \u001b[38;5;241m0.5\u001b[39m\n\u001b[0;32m   1267\u001b[0m free_stream_mach \u001b[38;5;241m=\u001b[39m free_stream_speed \u001b[38;5;241m/\u001b[39m \u001b[38;5;28mself\u001b[39m\u001b[38;5;241m.\u001b[39menv\u001b[38;5;241m.\u001b[39mspeed_of_sound\u001b[38;5;241m.\u001b[39mget_value_opt(z)\n\u001b[1;32m-> 1268\u001b[0m drag_coeff \u001b[38;5;241m=\u001b[39m \u001b[38;5;28;43mself\u001b[39;49m\u001b[38;5;241;43m.\u001b[39;49m\u001b[43mrocket\u001b[49m\u001b[38;5;241;43m.\u001b[39;49m\u001b[43mpower_on_drag\u001b[49m\u001b[38;5;241;43m.\u001b[39;49m\u001b[43mget_value_opt\u001b[49m(free_stream_mach)\n\u001b[0;32m   1270\u001b[0m \u001b[38;5;66;03m# Calculate Forces\u001b[39;00m\n\u001b[0;32m   1271\u001b[0m thrust \u001b[38;5;241m=\u001b[39m \u001b[38;5;28mself\u001b[39m\u001b[38;5;241m.\u001b[39mrocket\u001b[38;5;241m.\u001b[39mmotor\u001b[38;5;241m.\u001b[39mthrust\u001b[38;5;241m.\u001b[39mget_value_opt(t)\n",
      "\u001b[1;31mAttributeError\u001b[0m: 'Function' object has no attribute 'get_value_opt'"
     ]
    }
   ],
   "source": [
    "# Simulation du vol\n",
    "test_flight = Flight(\n",
    "    rocket      = kronos,\n",
    "    environment = env,\n",
    "    rail_length = RAIL_L,\n",
    "    inclination = RAIL_INC,\n",
    "    heading     = RAIL_HEAD  \n",
    ")\n",
    "\n",
    "# test_flight.info()"
   ]
  }
 ],
 "metadata": {
  "kernelspec": {
   "display_name": "Python 3",
   "language": "python",
   "name": "python3"
  },
  "language_info": {
   "codemirror_mode": {
    "name": "ipython",
    "version": 3
   },
   "file_extension": ".py",
   "mimetype": "text/x-python",
   "name": "python",
   "nbconvert_exporter": "python",
   "pygments_lexer": "ipython3",
   "version": "3.12.0"
  }
 },
 "nbformat": 4,
 "nbformat_minor": 2
}
